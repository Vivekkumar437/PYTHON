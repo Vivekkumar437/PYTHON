{
 "cells": [
  {
   "cell_type": "code",
   "execution_count": null,
   "id": "5dd173f4",
   "metadata": {},
   "outputs": [],
   "source": [
    "### Dice Rolling Simulator"
   ]
  },
  {
   "cell_type": "code",
   "execution_count": null,
   "id": "59cfe45a",
   "metadata": {},
   "outputs": [],
   "source": [
    "##Goal:Generate and display a random number between 1 to 6 each time the user rolls.\n"
   ]
  },
  {
   "cell_type": "code",
   "execution_count": 1,
   "id": "5a3a016b",
   "metadata": {},
   "outputs": [
    {
     "name": "stdout",
     "output_type": "stream",
     "text": [
      "Dice Rolling Simulator\n",
      "Please type 'yes'or'no'\n",
      "You rolled: 2\n",
      "Please type 'yes'or'no'\n",
      "Please type 'yes'or'no'\n",
      "Please type 'yes'or'no'\n",
      "Please type 'yes'or'no'\n",
      "Please type 'yes'or'no'\n",
      "Please type 'yes'or'no'\n",
      "Please type 'yes'or'no'\n",
      "Please type 'yes'or'no'\n",
      "Thanks for playing!\n"
     ]
    }
   ],
   "source": [
    "import random\n",
    "\n",
    "def roll_dice():\n",
    "  return random.randint(1,6)\n",
    "\n",
    "print(\"Dice Rolling Simulator\")\n",
    "\n",
    "while True:\n",
    "  roll=input(\"Roll the dice?(yes/no):\").lower()\n",
    "  if roll ==\"yes\":\n",
    "    print(\"You rolled:\",roll_dice())\n",
    "  elif roll==\"no\":\n",
    "    print(\"Thanks for playing!\")\n",
    "    break\n",
    "  else:\n",
    "    print(\"Please type 'yes'or'no'\")  "
   ]
  },
  {
   "cell_type": "code",
   "execution_count": null,
   "id": "c5c8613a",
   "metadata": {},
   "outputs": [],
   "source": [
    "##Concept used:\n",
    "## Using random.randint()\n",
    "##working with loops and user inputs\n",
    "##basic control flow (if-elif-else)\n",
    "##Making fun, interactive mini tools"
   ]
  }
 ],
 "metadata": {
  "kernelspec": {
   "display_name": "Python 3",
   "language": "python",
   "name": "python3"
  },
  "language_info": {
   "codemirror_mode": {
    "name": "ipython",
    "version": 3
   },
   "file_extension": ".py",
   "mimetype": "text/x-python",
   "name": "python",
   "nbconvert_exporter": "python",
   "pygments_lexer": "ipython3",
   "version": "3.12.0"
  }
 },
 "nbformat": 4,
 "nbformat_minor": 5
}
