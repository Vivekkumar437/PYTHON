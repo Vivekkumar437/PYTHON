{
 "cells": [
  {
   "cell_type": "code",
   "execution_count": 1,
   "id": "21e5af5c",
   "metadata": {},
   "outputs": [],
   "source": [
    "##Simple Calculator App + - * /"
   ]
  },
  {
   "cell_type": "code",
   "execution_count": null,
   "id": "54b28751",
   "metadata": {},
   "outputs": [],
   "source": [
    "##Goal:let the user input two numbers and choose an operation.Return the result"
   ]
  },
  {
   "cell_type": "code",
   "execution_count": 3,
   "id": "6f2d20ac",
   "metadata": {},
   "outputs": [
    {
     "name": "stdout",
     "output_type": "stream",
     "text": [
      "Simple Calculator\n",
      "Result: 1196.0\n"
     ]
    }
   ],
   "source": [
    "def calculator():\n",
    "  print(\"Simple Calculator\")\n",
    "\n",
    "  num1=float(input(\"Enter first number:\"))\n",
    "\n",
    "  op=input(\"Choose operation(+,-,*,/):\")\n",
    "\n",
    "  num2=float(input(\"Enter second number:\"))\n",
    "\n",
    "  if op=='+':\n",
    "    print(\"Result:\",num1+num2)\n",
    "  elif op=='-':\n",
    "    print(\"Result:\",num1-num2)\n",
    "\n",
    "  elif op=='*':\n",
    "    print(\"Result:\",num1*num2)\n",
    "\n",
    "  elif op=='/':\n",
    "    if num2!=0:\n",
    "      print(\"Result:\",num1/num2)\n",
    "\n",
    "    else:\n",
    "      print(\"Error:Division by zero!\")\n",
    "  else:\n",
    "    print(\"Invalid operation!\")\n",
    "\n",
    "calculator()                "
   ]
  },
  {
   "cell_type": "code",
   "execution_count": null,
   "id": "ca3ca4d5",
   "metadata": {},
   "outputs": [],
   "source": []
  },
  {
   "cell_type": "code",
   "execution_count": null,
   "id": "ed7a7191",
   "metadata": {},
   "outputs": [],
   "source": []
  },
  {
   "cell_type": "code",
   "execution_count": null,
   "id": "cbce1290",
   "metadata": {},
   "outputs": [],
   "source": []
  }
 ],
 "metadata": {
  "kernelspec": {
   "display_name": "Python 3",
   "language": "python",
   "name": "python3"
  },
  "language_info": {
   "codemirror_mode": {
    "name": "ipython",
    "version": 3
   },
   "file_extension": ".py",
   "mimetype": "text/x-python",
   "name": "python",
   "nbconvert_exporter": "python",
   "pygments_lexer": "ipython3",
   "version": "3.12.0"
  }
 },
 "nbformat": 4,
 "nbformat_minor": 5
}
