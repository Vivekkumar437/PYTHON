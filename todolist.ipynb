{
 "cells": [
  {
   "cell_type": "code",
   "execution_count": null,
   "id": "b81fa2d0",
   "metadata": {},
   "outputs": [],
   "source": [
    "##To-Do-List App(Console Version)"
   ]
  },
  {
   "cell_type": "code",
   "execution_count": null,
   "id": "1efcde67",
   "metadata": {},
   "outputs": [],
   "source": [
    "##Goal:Let  user add ,view,and delete tasks from a to-do-list."
   ]
  },
  {
   "cell_type": "code",
   "execution_count": null,
   "id": "a9995630",
   "metadata": {},
   "outputs": [
    {
     "name": "stdout",
     "output_type": "stream",
     "text": [
      "\n",
      " To-Do list Menu:\n",
      "1. View Tasks\n",
      "2.Add Task\n",
      "3.Delete Task\n",
      "4.Exit\n",
      "Task added!\n",
      "\n",
      " To-Do list Menu:\n",
      "1. View Tasks\n",
      "2.Add Task\n",
      "3.Delete Task\n",
      "4.Exit\n",
      "Task added!\n",
      "\n",
      " To-Do list Menu:\n",
      "1. View Tasks\n",
      "2.Add Task\n",
      "3.Delete Task\n",
      "4.Exit\n",
      "Task added!\n",
      "\n",
      " To-Do list Menu:\n",
      "1. View Tasks\n",
      "2.Add Task\n",
      "3.Delete Task\n",
      "4.Exit\n",
      "1.playing game\n",
      "2.eating\n",
      "3.reading book\n",
      "\n",
      " To-Do list Menu:\n",
      "1. View Tasks\n",
      "2.Add Task\n",
      "3.Delete Task\n",
      "4.Exit\n",
      "1.playing game\n",
      "2.eating\n",
      "3.reading book\n",
      "\n",
      " To-Do list Menu:\n",
      "1. View Tasks\n",
      "2.Add Task\n",
      "3.Delete Task\n",
      "4.Exit\n",
      "1.playing game\n",
      "2.eating\n",
      "3.reading book\n",
      "\n",
      " To-Do list Menu:\n",
      "1. View Tasks\n",
      "2.Add Task\n",
      "3.Delete Task\n",
      "4.Exit\n",
      "Goodbye!\n"
     ]
    }
   ],
   "source": [
    "todo_list=[]\n",
    "\n",
    "def show_menu():\n",
    "  print(\"\\n To-Do list Menu:\")\n",
    "  print(\"1. View Tasks\")\n",
    "  print(\"2.Add Task\")\n",
    "  print(\"3.Delete Task\")\n",
    "  print(\"4.Exit\")\n",
    "\n",
    "while True:\n",
    "  show_menu()\n",
    "  choice=input(\"Enter your choice(1-4):\")\n",
    "\n",
    "  if choice=='1':\n",
    "    if not todo_list:\n",
    "      print(\"No tasks yet.\")\n",
    "    else:\n",
    "      for i,task in enumerate(todo_list,1):\n",
    "        print(f\"{i}.{task}\")\n",
    "  elif choice=='2':\n",
    "    task=input(\"Enter new task:\")\n",
    "    todo_list.append(task)\n",
    "    print(\"Task added!\")\n",
    "  elif choice=='3':\n",
    "    task_no=int(input(\"Enter task no to delete:\"))\n",
    "    if 0<task_no<=len(todo_list):\n",
    "      removed=todo_list.pop(task_no-1)\n",
    "      print(f\"Removed:{removed}\")\n",
    "    else:\n",
    "      print(\"Invalid task number!\")\n",
    "  elif choice =='4':\n",
    "    print(\"Goodbye!\")\n",
    "    break\n",
    "  else:\n",
    "    print(\"Invalid choice.Try again.\")                  \n"
   ]
  },
  {
   "cell_type": "code",
   "execution_count": null,
   "id": "f28ae507",
   "metadata": {},
   "outputs": [],
   "source": []
  }
 ],
 "metadata": {
  "kernelspec": {
   "display_name": "Python 3",
   "language": "python",
   "name": "python3"
  },
  "language_info": {
   "codemirror_mode": {
    "name": "ipython",
    "version": 3
   },
   "file_extension": ".py",
   "mimetype": "text/x-python",
   "name": "python",
   "nbconvert_exporter": "python",
   "pygments_lexer": "ipython3",
   "version": "3.12.0"
  }
 },
 "nbformat": 4,
 "nbformat_minor": 5
}
