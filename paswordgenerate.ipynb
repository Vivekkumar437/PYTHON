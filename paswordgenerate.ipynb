{
 "cells": [
  {
   "cell_type": "code",
   "execution_count": null,
   "id": "13364587",
   "metadata": {},
   "outputs": [],
   "source": [
    "##Random Password Generator"
   ]
  },
  {
   "cell_type": "code",
   "execution_count": null,
   "id": "39b5d88c",
   "metadata": {},
   "outputs": [],
   "source": [
    "##Goal:Generate a random password using letters,numbers,and symbols based on user input for password length."
   ]
  },
  {
   "cell_type": "code",
   "execution_count": 10,
   "id": "003a00eb",
   "metadata": {},
   "outputs": [
    {
     "name": "stdout",
     "output_type": "stream",
     "text": [
      "Random Password Generator\n",
      "Password should be at least 4 characters long.\n"
     ]
    }
   ],
   "source": [
    "import random\n",
    "import string\n",
    "\n",
    "def generate_password(length):\n",
    "    characters = string.ascii_letters + string.digits + string.punctuation\n",
    "    password = ''.join(random.choice(characters) for _ in range(length))  # Fixed the join syntax and loop variable\n",
    "    return password\n",
    "\n",
    "print(\"Random Password Generator\")\n",
    "try:\n",
    "    length = int(input(\"Enter desired password length: \"))\n",
    "    if length < 4:\n",
    "        print(\"Password should be at least 4 characters long.\")\n",
    "    else:\n",
    "        print(\"Generated password: \", generate_password(length))\n",
    "except ValueError:\n",
    "    print(\"Please enter a valid number.\")"
   ]
  },
  {
   "cell_type": "code",
   "execution_count": null,
   "id": "97040da5",
   "metadata": {},
   "outputs": [],
   "source": []
  },
  {
   "cell_type": "code",
   "execution_count": null,
   "id": "1d369a93",
   "metadata": {},
   "outputs": [],
   "source": []
  },
  {
   "cell_type": "code",
   "execution_count": null,
   "id": "9e301f04",
   "metadata": {},
   "outputs": [],
   "source": []
  }
 ],
 "metadata": {
  "kernelspec": {
   "display_name": "Python 3",
   "language": "python",
   "name": "python3"
  },
  "language_info": {
   "codemirror_mode": {
    "name": "ipython",
    "version": 3
   },
   "file_extension": ".py",
   "mimetype": "text/x-python",
   "name": "python",
   "nbconvert_exporter": "python",
   "pygments_lexer": "ipython3",
   "version": "3.12.0"
  }
 },
 "nbformat": 4,
 "nbformat_minor": 5
}
