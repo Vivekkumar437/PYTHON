{
 "cells": [
  {
   "cell_type": "code",
   "execution_count": 5,
   "id": "817e8f88",
   "metadata": {},
   "outputs": [
    {
     "name": "stdout",
     "output_type": "stream",
     "text": [
      "minor\n"
     ]
    }
   ],
   "source": [
    "age=12\n",
    "if age<18:\n",
    "  print(\"minor\")\n",
    "elif age==18:\n",
    "  print(\"just became an adult\")\n",
    "else:\n",
    "  print(\"adult\")    \n"
   ]
  },
  {
   "cell_type": "code",
   "execution_count": 3,
   "id": "62c7d85f",
   "metadata": {},
   "outputs": [
    {
     "name": "stdout",
     "output_type": "stream",
     "text": [
      "age 21\n"
     ]
    }
   ],
   "source": [
    "age=input(\"enter age\")\n",
    "print(\"age\",age)"
   ]
  },
  {
   "cell_type": "code",
   "execution_count": 8,
   "id": "96445127",
   "metadata": {},
   "outputs": [
    {
     "name": "stdout",
     "output_type": "stream",
     "text": [
      "24\n"
     ]
    }
   ],
   "source": [
    "total=1+5+9+9\n",
    "print(total)"
   ]
  },
  {
   "cell_type": "code",
   "execution_count": 9,
   "id": "6b6f23fe",
   "metadata": {},
   "outputs": [
    {
     "name": "stdout",
     "output_type": "stream",
     "text": [
      "147\n",
      "23\n"
     ]
    }
   ],
   "source": [
    "x=62\n",
    "y=85\n",
    "z=x+y\n",
    "c=y-x\n",
    "print(z)\n",
    "print(c)"
   ]
  },
  {
   "cell_type": "code",
   "execution_count": 10,
   "id": "6e57dba0",
   "metadata": {},
   "outputs": [
    {
     "data": {
      "text/plain": [
       "int"
      ]
     },
     "execution_count": 10,
     "metadata": {},
     "output_type": "execute_result"
    }
   ],
   "source": [
    "type(x)"
   ]
  },
  {
   "cell_type": "code",
   "execution_count": null,
   "id": "e868556e",
   "metadata": {},
   "outputs": [],
   "source": [
    "##Number Guessing Game"
   ]
  },
  {
   "cell_type": "code",
   "execution_count": null,
   "id": "b98c01a9",
   "metadata": {},
   "outputs": [],
   "source": [
    "##The computer randomly picks a number between 1 to 100.\n",
    "\n",
    "##The user has to guess it- and the program gives hints like \"TooHigh\" or \"Too Low\" until the user gets it right."
   ]
  },
  {
   "cell_type": "code",
   "execution_count": 13,
   "id": "90504fec",
   "metadata": {},
   "outputs": [
    {
     "name": "stdout",
     "output_type": "stream",
     "text": [
      "Welcome to the Number Guessing Game!\n",
      "I'm thinking of a number between 1 and 100.\n",
      "too high! try again\n",
      "too low !Try again.\n",
      "too high! try again\n",
      "too high! try again\n",
      "Congratulations!you guessed it in 5tries.\n"
     ]
    }
   ],
   "source": [
    "import random \n",
    "number_to_guess = random.randint(1,100)\n",
    "guess=None\n",
    "attempts=0\n",
    "print(\"Welcome to the Number Guessing Game!\")\n",
    "print(\"I'm thinking of a number between 1 and 100.\")\n",
    "\n",
    "while guess!=number_to_guess:\n",
    "  guess =int(input(\"enter your guess :\"))\n",
    "  attempts+=1\n",
    "\n",
    "  if guess < number_to_guess:\n",
    "    print(\"too low !Try again.\")\n",
    "  elif guess > number_to_guess:\n",
    "    print(\"too high! try again\")\n",
    "  else:\n",
    "    print(f\"Congratulations!you guessed it in {attempts}tries.\")\n",
    "        "
   ]
  },
  {
   "cell_type": "code",
   "execution_count": null,
   "id": "0693502f",
   "metadata": {},
   "outputs": [],
   "source": []
  },
  {
   "cell_type": "code",
   "execution_count": null,
   "id": "11ccefca",
   "metadata": {},
   "outputs": [],
   "source": []
  }
 ],
 "metadata": {
  "kernelspec": {
   "display_name": "Python 3",
   "language": "python",
   "name": "python3"
  },
  "language_info": {
   "codemirror_mode": {
    "name": "ipython",
    "version": 3
   },
   "file_extension": ".py",
   "mimetype": "text/x-python",
   "name": "python",
   "nbconvert_exporter": "python",
   "pygments_lexer": "ipython3",
   "version": "3.12.0"
  }
 },
 "nbformat": 4,
 "nbformat_minor": 5
}
